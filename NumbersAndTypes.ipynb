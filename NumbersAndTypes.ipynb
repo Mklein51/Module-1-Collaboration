{
 "cells": [
  {
   "cell_type": "code",
   "execution_count": 16,
   "id": "b362d976-debb-405e-bbae-64a7fb3eeba4",
   "metadata": {},
   "outputs": [
    {
     "name": "stdout",
     "output_type": "stream",
     "text": [
      "3600\n",
      "86400\n",
      "24.0\n",
      "24\n"
     ]
    }
   ],
   "source": [
    "\"\"\" 3.1 How many seconds in an hour?\"\"\"\n",
    "seconds_in_hour = 60 * 60\n",
    "print(seconds_in_hour)\n",
    "\n",
    "\"\"\"3.2 Assign result to 'seconds_per_hour' \"\"\"\n",
    "seconds_per_hour = 3600\n",
    "\n",
    "\"\"\"3.3 How many seconds are in a day \"\"\"\n",
    "seconds_in_day = 60 * 60 * 24\n",
    "print(seconds_in_day)\n",
    "\n",
    "\"\"\"3.4 Assign result to 'seconds_per_day' \"\"\"\n",
    "seconds_per_day = 86400\n",
    "\n",
    "\"\"\" 3.5 Dividing 'seconds_per_day' by 'seconds_per_hour' using floating point division \"\"\"\n",
    "floating_result = seconds_per_day / seconds_per_hour\n",
    "print(floating_result)\n",
    "\n",
    "\"\"\" 3.6 Dividing 'seconds_per_day' by 'seconds_per_hour' using integer divison\"\"\"\n",
    "integer_result = seconds_per_day // seconds_per_hour\n",
    "print(integer_result)\n"
   ]
  },
  {
   "cell_type": "code",
   "execution_count": null,
   "id": "3e172dd5-0718-49db-8d5f-955c59021891",
   "metadata": {},
   "outputs": [],
   "source": []
  }
 ],
 "metadata": {
  "kernelspec": {
   "display_name": "Python [conda env:base] *",
   "language": "python",
   "name": "conda-base-py"
  },
  "language_info": {
   "codemirror_mode": {
    "name": "ipython",
    "version": 3
   },
   "file_extension": ".py",
   "mimetype": "text/x-python",
   "name": "python",
   "nbconvert_exporter": "python",
   "pygments_lexer": "ipython3",
   "version": "3.12.7"
  }
 },
 "nbformat": 4,
 "nbformat_minor": 5
}
